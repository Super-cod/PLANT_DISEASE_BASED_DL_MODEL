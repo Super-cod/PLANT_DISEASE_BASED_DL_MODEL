{
 "cells": [
  {
   "cell_type": "code",
   "id": "initial_id",
   "metadata": {
    "collapsed": true,
    "ExecuteTime": {
     "end_time": "2025-07-27T20:21:34.560967Z",
     "start_time": "2025-07-27T20:21:34.533246Z"
    }
   },
   "source": [
    "import os\n",
    "\n",
    "import cv2\n",
    "import numpy as np\n",
    "from chromadb.experimental.density_relevance import batch_size\n",
    "from tqdm import tqdm"
   ],
   "outputs": [],
   "execution_count": 7
  },
  {
   "metadata": {
    "ExecuteTime": {
     "end_time": "2025-07-27T18:41:54.492641Z",
     "start_time": "2025-07-27T18:41:54.481177Z"
    }
   },
   "cell_type": "code",
   "source": [
    "Class={\n",
    "\n",
    "}\n",
    "\n",
    "foler_name=[name for name in os.listdir(r\"C:\\Users\\swaya\\Desktop\\Timepass\\python\\NExt_one_week\\New Plant Diseases Dataset(Augmented)\\New Plant Diseases Dataset(Augmented)\\train\")]\n",
    "\n",
    "for i in range(len(foler_name)):\n",
    "    Class[i]=foler_name[i]"
   ],
   "id": "ec55463be0f59650",
   "outputs": [],
   "execution_count": 3
  },
  {
   "metadata": {},
   "cell_type": "code",
   "outputs": [
    {
     "data": {
      "text/plain": [
       "{0: 'Apple___Apple_scab',\n",
       " 1: 'Apple___Black_rot',\n",
       " 2: 'Apple___Cedar_apple_rust',\n",
       " 3: 'Apple___healthy',\n",
       " 4: 'Blueberry___healthy',\n",
       " 5: 'Cherry_(including_sour)___healthy',\n",
       " 6: 'Cherry_(including_sour)___Powdery_mildew',\n",
       " 7: 'Corn_(maize)___Cercospora_leaf_spot Gray_leaf_spot',\n",
       " 8: 'Corn_(maize)___Common_rust_',\n",
       " 9: 'Corn_(maize)___healthy',\n",
       " 10: 'Corn_(maize)___Northern_Leaf_Blight',\n",
       " 11: 'Grape___Black_rot',\n",
       " 12: 'Grape___Esca_(Black_Measles)',\n",
       " 13: 'Grape___healthy',\n",
       " 14: 'Grape___Leaf_blight_(Isariopsis_Leaf_Spot)',\n",
       " 15: 'Orange___Haunglongbing_(Citrus_greening)',\n",
       " 16: 'Peach___Bacterial_spot',\n",
       " 17: 'Peach___healthy',\n",
       " 18: 'Pepper,_bell___Bacterial_spot',\n",
       " 19: 'Pepper,_bell___healthy',\n",
       " 20: 'Potato___Early_blight',\n",
       " 21: 'Potato___healthy',\n",
       " 22: 'Potato___Late_blight',\n",
       " 23: 'Raspberry___healthy',\n",
       " 24: 'Soybean___healthy',\n",
       " 25: 'Squash___Powdery_mildew',\n",
       " 26: 'Strawberry___healthy',\n",
       " 27: 'Strawberry___Leaf_scorch',\n",
       " 28: 'Tomato___Bacterial_spot',\n",
       " 29: 'Tomato___Early_blight',\n",
       " 30: 'Tomato___healthy',\n",
       " 31: 'Tomato___Late_blight',\n",
       " 32: 'Tomato___Leaf_Mold',\n",
       " 33: 'Tomato___Septoria_leaf_spot',\n",
       " 34: 'Tomato___Spider_mites Two-spotted_spider_mite',\n",
       " 35: 'Tomato___Target_Spot',\n",
       " 36: 'Tomato___Tomato_mosaic_virus',\n",
       " 37: 'Tomato___Tomato_Yellow_Leaf_Curl_Virus'}"
      ]
     },
     "execution_count": 4,
     "metadata": {},
     "output_type": "execute_result"
    }
   ],
   "execution_count": 4,
   "source": "Class",
   "id": "7a98a6d9adbf9ec2"
  },
  {
   "metadata": {
    "ExecuteTime": {
     "end_time": "2025-07-27T20:35:15.419435Z",
     "start_time": "2025-07-27T20:35:05.479572Z"
    }
   },
   "cell_type": "code",
   "source": [
    "import torch\n",
    "from torchvision import datasets, transforms\n",
    "from torch.utils.data import DataLoader"
   ],
   "id": "118e404f2b5867b2",
   "outputs": [],
   "execution_count": 8
  },
  {
   "metadata": {
    "ExecuteTime": {
     "end_time": "2025-07-27T20:16:16.240190Z",
     "start_time": "2025-07-27T20:16:16.228886Z"
    }
   },
   "cell_type": "code",
   "source": "Class_r = {value: key for key, value in Class.items()}\n",
   "id": "4ce81ae7d5ef6cda",
   "outputs": [
    {
     "name": "stdout",
     "output_type": "stream",
     "text": [
      "{'Apple___Apple_scab': 0, 'Apple___Black_rot': 1, 'Apple___Cedar_apple_rust': 2, 'Apple___healthy': 3, 'Blueberry___healthy': 4, 'Cherry_(including_sour)___healthy': 5, 'Cherry_(including_sour)___Powdery_mildew': 6, 'Corn_(maize)___Cercospora_leaf_spot Gray_leaf_spot': 7, 'Corn_(maize)___Common_rust_': 8, 'Corn_(maize)___healthy': 9, 'Corn_(maize)___Northern_Leaf_Blight': 10, 'Grape___Black_rot': 11, 'Grape___Esca_(Black_Measles)': 12, 'Grape___healthy': 13, 'Grape___Leaf_blight_(Isariopsis_Leaf_Spot)': 14, 'Orange___Haunglongbing_(Citrus_greening)': 15, 'Peach___Bacterial_spot': 16, 'Peach___healthy': 17, 'Pepper,_bell___Bacterial_spot': 18, 'Pepper,_bell___healthy': 19, 'Potato___Early_blight': 20, 'Potato___healthy': 21, 'Potato___Late_blight': 22, 'Raspberry___healthy': 23, 'Soybean___healthy': 24, 'Squash___Powdery_mildew': 25, 'Strawberry___healthy': 26, 'Strawberry___Leaf_scorch': 27, 'Tomato___Bacterial_spot': 28, 'Tomato___Early_blight': 29, 'Tomato___healthy': 30, 'Tomato___Late_blight': 31, 'Tomato___Leaf_Mold': 32, 'Tomato___Septoria_leaf_spot': 33, 'Tomato___Spider_mites Two-spotted_spider_mite': 34, 'Tomato___Target_Spot': 35, 'Tomato___Tomato_mosaic_virus': 36, 'Tomato___Tomato_Yellow_Leaf_Curl_Virus': 37}\n"
     ]
    }
   ],
   "execution_count": 6
  },
  {
   "metadata": {
    "ExecuteTime": {
     "end_time": "2025-07-27T20:35:43.140768Z",
     "start_time": "2025-07-27T20:35:43.128280Z"
    }
   },
   "cell_type": "code",
   "source": "train_directory = r\"C:\\Users\\swaya\\Desktop\\Timepass\\python\\NExt_one_week\\New Plant Diseases Dataset(Augmented)\\New Plant Diseases Dataset(Augmented)\\train\"",
   "id": "1adc677f9d0d9ffa",
   "outputs": [],
   "execution_count": 9
  },
  {
   "metadata": {
    "ExecuteTime": {
     "end_time": "2025-07-27T20:35:56.660565Z",
     "start_time": "2025-07-27T20:35:56.648135Z"
    }
   },
   "cell_type": "code",
   "source": [
    "image_size = 224\n",
    "batch_size=32"
   ],
   "id": "b0dfe2cc02015308",
   "outputs": [],
   "execution_count": 10
  },
  {
   "metadata": {
    "ExecuteTime": {
     "end_time": "2025-07-27T20:37:29.668994Z",
     "start_time": "2025-07-27T20:37:29.657580Z"
    }
   },
   "cell_type": "code",
   "source": [
    "data_transform=transforms.Compose([\n",
    "    transforms.Resize((image_size,image_size)),\n",
    "    transforms.ToTensor(),\n",
    "    transforms.Normalize(\n",
    "        mean=[0.485, 0.456, 0.406],\n",
    "        std=[0.229, 0.224, 0.225]\n",
    "    )\n",
    "])"
   ],
   "id": "d6ea484854cd81ae",
   "outputs": [],
   "execution_count": 11
  },
  {
   "metadata": {
    "ExecuteTime": {
     "end_time": "2025-07-27T20:39:31.700645Z",
     "start_time": "2025-07-27T20:39:31.207745Z"
    }
   },
   "cell_type": "code",
   "source": [
    "train_dataset = datasets.ImageFolder(\n",
    "    root=train_directory,\n",
    "    transform=data_transform\n",
    ")"
   ],
   "id": "3aeb6aa42f0606f0",
   "outputs": [],
   "execution_count": 13
  },
  {
   "metadata": {
    "ExecuteTime": {
     "end_time": "2025-07-27T20:40:29.580487Z",
     "start_time": "2025-07-27T20:40:29.569287Z"
    }
   },
   "cell_type": "code",
   "source": [
    "train_loader = DataLoader(\n",
    "    dataset=train_dataset,\n",
    "    batch_size=batch_size,\n",
    "    shuffle=True\n",
    ")"
   ],
   "id": "72a31422d8c730df",
   "outputs": [],
   "execution_count": 15
  },
  {
   "metadata": {
    "ExecuteTime": {
     "end_time": "2025-07-27T20:54:11.341068Z",
     "start_time": "2025-07-27T20:54:10.612665Z"
    }
   },
   "cell_type": "code",
   "source": [
    "if __name__ == '__main__':\n",
    "    # Get one batch of training images\n",
    "    images, labels = next(iter(train_loader))\n",
    "\n",
    "    print(f\"Shape of one batch of images: {images.shape}\") # Should be [batch_size, 3, image_size, image_size]\n",
    "    print(f\"Shape of one batch of labels: {labels.shape}\") # Should be [batch_size]"
   ],
   "id": "c8f137d421fcbfb5",
   "outputs": [
    {
     "name": "stdout",
     "output_type": "stream",
     "text": [
      "Shape of one batch of images: torch.Size([32, 3, 224, 224])\n",
      "Shape of one batch of labels: torch.Size([32])\n"
     ]
    }
   ],
   "execution_count": 18
  },
  {
   "metadata": {},
   "cell_type": "code",
   "outputs": [],
   "execution_count": null,
   "source": "",
   "id": "236442d79e1aa0d8"
  }
 ],
 "metadata": {
  "kernelspec": {
   "display_name": "Python 3",
   "language": "python",
   "name": "python3"
  },
  "language_info": {
   "codemirror_mode": {
    "name": "ipython",
    "version": 2
   },
   "file_extension": ".py",
   "mimetype": "text/x-python",
   "name": "python",
   "nbconvert_exporter": "python",
   "pygments_lexer": "ipython2",
   "version": "2.7.6"
  }
 },
 "nbformat": 4,
 "nbformat_minor": 5
}
