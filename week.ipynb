{
 "cells": [
  {
   "cell_type": "code",
   "id": "initial_id",
   "metadata": {
    "collapsed": true,
    "ExecuteTime": {
     "end_time": "2025-07-28T17:23:55.211857Z",
     "start_time": "2025-07-28T17:23:55.196152Z"
    }
   },
   "source": [
    "import os\n",
    "import torch.optim as optim\n",
    "\n",
    "import cv2\n",
    "import numpy as np\n",
    "from tqdm import tqdm"
   ],
   "outputs": [],
   "execution_count": 5
  },
  {
   "cell_type": "code",
   "id": "ec55463be0f59650",
   "metadata": {
    "ExecuteTime": {
     "end_time": "2025-07-28T17:42:36.217049Z",
     "start_time": "2025-07-28T17:42:36.203921Z"
    }
   },
   "source": [
    "Class={\n",
    "\n",
    "}\n",
    "\n",
    "foler_name=[name for name in os.listdir(r\"C:\\Users\\swaya\\Desktop\\Timepass\\python\\NExt_one_week\\New Plant Diseases Dataset(Augmented)\\New Plant Diseases Dataset(Augmented)\\train\")]\n",
    "\n",
    "for i in range(len(foler_name)):\n",
    "    Class[i]=foler_name[i]"
   ],
   "outputs": [],
   "execution_count": 9
  },
  {
   "cell_type": "code",
   "id": "7a98a6d9adbf9ec2",
   "metadata": {
    "ExecuteTime": {
     "end_time": "2025-07-28T17:42:37.429588Z",
     "start_time": "2025-07-28T17:42:37.404001Z"
    }
   },
   "source": [
    "Class"
   ],
   "outputs": [
    {
     "data": {
      "text/plain": [
       "{0: 'Apple___Apple_scab',\n",
       " 1: 'Apple___Black_rot',\n",
       " 2: 'Apple___Cedar_apple_rust',\n",
       " 3: 'Apple___healthy',\n",
       " 4: 'Blueberry___healthy',\n",
       " 5: 'Cherry_(including_sour)___healthy',\n",
       " 6: 'Cherry_(including_sour)___Powdery_mildew',\n",
       " 7: 'Corn_(maize)___Cercospora_leaf_spot Gray_leaf_spot',\n",
       " 8: 'Corn_(maize)___Common_rust_',\n",
       " 9: 'Corn_(maize)___healthy',\n",
       " 10: 'Corn_(maize)___Northern_Leaf_Blight',\n",
       " 11: 'Grape___Black_rot',\n",
       " 12: 'Grape___Esca_(Black_Measles)',\n",
       " 13: 'Grape___healthy',\n",
       " 14: 'Grape___Leaf_blight_(Isariopsis_Leaf_Spot)',\n",
       " 15: 'Orange___Haunglongbing_(Citrus_greening)',\n",
       " 16: 'Peach___Bacterial_spot',\n",
       " 17: 'Peach___healthy',\n",
       " 18: 'Pepper,_bell___Bacterial_spot',\n",
       " 19: 'Pepper,_bell___healthy',\n",
       " 20: 'Potato___Early_blight',\n",
       " 21: 'Potato___healthy',\n",
       " 22: 'Potato___Late_blight',\n",
       " 23: 'Raspberry___healthy',\n",
       " 24: 'Soybean___healthy',\n",
       " 25: 'Squash___Powdery_mildew',\n",
       " 26: 'Strawberry___healthy',\n",
       " 27: 'Strawberry___Leaf_scorch',\n",
       " 28: 'Tomato___Bacterial_spot',\n",
       " 29: 'Tomato___Early_blight',\n",
       " 30: 'Tomato___healthy',\n",
       " 31: 'Tomato___Late_blight',\n",
       " 32: 'Tomato___Leaf_Mold',\n",
       " 33: 'Tomato___Septoria_leaf_spot',\n",
       " 34: 'Tomato___Spider_mites Two-spotted_spider_mite',\n",
       " 35: 'Tomato___Target_Spot',\n",
       " 36: 'Tomato___Tomato_mosaic_virus',\n",
       " 37: 'Tomato___Tomato_Yellow_Leaf_Curl_Virus'}"
      ]
     },
     "execution_count": 10,
     "metadata": {},
     "output_type": "execute_result"
    }
   ],
   "execution_count": 10
  },
  {
   "cell_type": "code",
   "id": "118e404f2b5867b2",
   "metadata": {
    "ExecuteTime": {
     "end_time": "2025-07-28T17:42:39.512688Z",
     "start_time": "2025-07-28T17:42:39.496904Z"
    }
   },
   "source": [
    "import torch\n",
    "from torchvision import datasets, transforms\n",
    "from torch.utils.data import DataLoader"
   ],
   "outputs": [],
   "execution_count": 11
  },
  {
   "cell_type": "code",
   "id": "4ce81ae7d5ef6cda",
   "metadata": {
    "ExecuteTime": {
     "end_time": "2025-07-28T17:42:39.964011Z",
     "start_time": "2025-07-28T17:42:39.954234Z"
    }
   },
   "source": [
    "Class_r = {value: key for key, value in Class.items()}\n"
   ],
   "outputs": [],
   "execution_count": 12
  },
  {
   "cell_type": "code",
   "id": "1adc677f9d0d9ffa",
   "metadata": {
    "ExecuteTime": {
     "end_time": "2025-07-28T17:42:40.763030Z",
     "start_time": "2025-07-28T17:42:40.737151Z"
    }
   },
   "source": [
    "train_directory = r\"C:\\Users\\swaya\\Desktop\\Timepass\\python\\NExt_one_week\\New Plant Diseases Dataset(Augmented)\\New Plant Diseases Dataset(Augmented)\\train\""
   ],
   "outputs": [],
   "execution_count": 13
  },
  {
   "cell_type": "code",
   "id": "b0dfe2cc02015308",
   "metadata": {
    "ExecuteTime": {
     "end_time": "2025-07-28T17:42:43.449078Z",
     "start_time": "2025-07-28T17:42:43.425104Z"
    }
   },
   "source": [
    "image_size = 224\n",
    "batch_size=32"
   ],
   "outputs": [],
   "execution_count": 14
  },
  {
   "cell_type": "code",
   "id": "d6ea484854cd81ae",
   "metadata": {
    "ExecuteTime": {
     "end_time": "2025-07-28T17:42:44.119117Z",
     "start_time": "2025-07-28T17:42:44.106249Z"
    }
   },
   "source": [
    "data_transform=transforms.Compose([\n",
    "    transforms.Resize((image_size,image_size)),\n",
    "    transforms.ToTensor(),\n",
    "    transforms.Normalize(\n",
    "        mean=[0.485, 0.456, 0.406],\n",
    "        std=[0.229, 0.224, 0.225]\n",
    "    )\n",
    "])"
   ],
   "outputs": [],
   "execution_count": 15
  },
  {
   "cell_type": "code",
   "id": "3aeb6aa42f0606f0",
   "metadata": {
    "ExecuteTime": {
     "end_time": "2025-07-28T17:42:46.295633Z",
     "start_time": "2025-07-28T17:42:45.772210Z"
    }
   },
   "source": [
    "train_dataset = datasets.ImageFolder(\n",
    "    root=train_directory,\n",
    "    transform=data_transform\n",
    ")"
   ],
   "outputs": [],
   "execution_count": 16
  },
  {
   "cell_type": "code",
   "id": "72a31422d8c730df",
   "metadata": {
    "ExecuteTime": {
     "end_time": "2025-07-28T17:42:46.361189Z",
     "start_time": "2025-07-28T17:42:46.345353Z"
    }
   },
   "source": [
    "train_loader = DataLoader(\n",
    "    dataset=train_dataset,\n",
    "    batch_size=batch_size,\n",
    "    shuffle=True\n",
    ")"
   ],
   "outputs": [],
   "execution_count": 17
  },
  {
   "cell_type": "code",
   "id": "c8f137d421fcbfb5",
   "metadata": {
    "ExecuteTime": {
     "end_time": "2025-07-28T17:42:49.300796Z",
     "start_time": "2025-07-28T17:42:48.643352Z"
    }
   },
   "source": [
    "if __name__ == '__main__':\n",
    "    # Get one batch of training images\n",
    "    images, labels = next(iter(train_loader))\n",
    "\n",
    "    print(f\"Shape of one batch of images: {images.shape}\") # Should be [batch_size, 3, image_size, image_size]\n",
    "    print(f\"Shape of one batch of labels: {labels.shape}\") # Should be [batch_size]"
   ],
   "outputs": [
    {
     "name": "stdout",
     "output_type": "stream",
     "text": [
      "Shape of one batch of images: torch.Size([32, 3, 224, 224])\n",
      "Shape of one batch of labels: torch.Size([32])\n"
     ]
    }
   ],
   "execution_count": 18
  },
  {
   "cell_type": "code",
   "id": "236442d79e1aa0d8",
   "metadata": {
    "ExecuteTime": {
     "end_time": "2025-07-28T17:09:02.207598Z",
     "start_time": "2025-07-28T17:08:47.939598Z"
    }
   },
   "source": [
    "import torch.nn as nn\n",
    "from torchvision import models"
   ],
   "outputs": [],
   "execution_count": 1
  },
  {
   "cell_type": "code",
   "id": "ba6bb49e",
   "metadata": {
    "ExecuteTime": {
     "end_time": "2025-07-28T17:24:00.802912Z",
     "start_time": "2025-07-28T17:24:00.787402Z"
    }
   },
   "source": [
    "class PlantDiseaseModel(nn.Module):\n",
    "    def __init__(self,num_classes):\n",
    "        super().__init__()\n",
    "        self.resnet=models.resnet34(pretrained=True)\n",
    "\n",
    "        for param in self.resnet.parameters():\n",
    "            param.requires_grad=False\n",
    "\n",
    "        num_ftrs=self.resnet.fc.in_features\n",
    "        self.resnet.fc=nn.Linear(num_ftrs,num_classes)\n",
    "    def forward(self,x):\n",
    "        return self.resnet(x)"
   ],
   "outputs": [],
   "execution_count": 6
  },
  {
   "metadata": {},
   "cell_type": "code",
   "outputs": [
    {
     "name": "stderr",
     "output_type": "stream",
     "text": [
      "Downloading: \"https://download.pytorch.org/models/resnet34-b627a593.pth\" to C:\\Users\\swaya/.cache\\torch\\hub\\checkpoints\\resnet34-b627a593.pth\n",
      "100%|██████████| 83.3M/83.3M [17:55<00:00, 81.2kB/s]  \n"
     ]
    }
   ],
   "execution_count": 7,
   "source": [
    "num_classes = 38\n",
    "model = PlantDiseaseModel(num_classes)\n",
    "Loss = nn.CrossEntropyLoss()\n",
    "num_epochs = 10"
   ],
   "id": "677c4fb153802bc5"
  },
  {
   "metadata": {
    "ExecuteTime": {
     "end_time": "2025-07-28T17:51:01.904758Z",
     "start_time": "2025-07-28T17:51:01.666687Z"
    }
   },
   "cell_type": "code",
   "source": [
    "optimizer = optim.Adam(model.parameters(), lr=0.001)\n",
    "model.to(device)\n"
   ],
   "id": "117603e132b09b65",
   "outputs": [],
   "execution_count": 25
  },
  {
   "metadata": {
    "ExecuteTime": {
     "end_time": "2025-07-28T18:46:26.454120Z",
     "start_time": "2025-07-28T17:54:48.475149Z"
    }
   },
   "cell_type": "code",
   "source": [
    "for epoch in range(num_epochs):\n",
    "    model.train()\n",
    "    progress_bar = tqdm(train_loader, desc=f\"Epoch {epoch+1}/{num_epochs}\")\n",
    "    for images, labels in train_loader:\n",
    "        images = images.to(device)\n",
    "        labels = labels.to(device)\n",
    "        outputs = model(images)\n",
    "        loss = Loss(outputs, labels)\n",
    "\n",
    "\n",
    "        optimizer.zero_grad()\n",
    "        loss.backward()\n",
    "        optimizer.step()\n",
    "        progress_bar.set_postfix(loss=loss.item())\n",
    "\n",
    "    print(f'Epoch [{epoch+1}/{num_epochs}], Loss: {loss.item():.4f}')"
   ],
   "id": "160c4a7b99efb252",
   "outputs": [
    {
     "data": {
      "text/plain": [
       "Epoch 1/10:   0%|          | 0/2197 [00:00<?, ?it/s]"
      ],
      "application/vnd.jupyter.widget-view+json": {
       "version_major": 2,
       "version_minor": 0,
       "model_id": "6f2bb002970540dabf59a5893a6eaf8a"
      }
     },
     "metadata": {},
     "output_type": "display_data"
    },
    {
     "name": "stdout",
     "output_type": "stream",
     "text": [
      "Epoch [1/10], Loss: 0.2039\n"
     ]
    },
    {
     "data": {
      "text/plain": [
       "Epoch 2/10:   0%|          | 0/2197 [00:00<?, ?it/s]"
      ],
      "application/vnd.jupyter.widget-view+json": {
       "version_major": 2,
       "version_minor": 0,
       "model_id": "38be9a815db6471583c573d39034f174"
      }
     },
     "metadata": {},
     "output_type": "display_data"
    },
    {
     "name": "stdout",
     "output_type": "stream",
     "text": [
      "Epoch [2/10], Loss: 0.0964\n"
     ]
    },
    {
     "data": {
      "text/plain": [
       "Epoch 3/10:   0%|          | 0/2197 [00:00<?, ?it/s]"
      ],
      "application/vnd.jupyter.widget-view+json": {
       "version_major": 2,
       "version_minor": 0,
       "model_id": "1cc1f8bd76b94192a515b6ddd6a5de33"
      }
     },
     "metadata": {},
     "output_type": "display_data"
    },
    {
     "name": "stdout",
     "output_type": "stream",
     "text": [
      "Epoch [3/10], Loss: 0.2006\n"
     ]
    },
    {
     "data": {
      "text/plain": [
       "Epoch 4/10:   0%|          | 0/2197 [00:00<?, ?it/s]"
      ],
      "application/vnd.jupyter.widget-view+json": {
       "version_major": 2,
       "version_minor": 0,
       "model_id": "cbc82d0d526c43aaafab87e1e0e4ec71"
      }
     },
     "metadata": {},
     "output_type": "display_data"
    },
    {
     "name": "stdout",
     "output_type": "stream",
     "text": [
      "Epoch [4/10], Loss: 0.0707\n"
     ]
    },
    {
     "data": {
      "text/plain": [
       "Epoch 5/10:   0%|          | 0/2197 [00:00<?, ?it/s]"
      ],
      "application/vnd.jupyter.widget-view+json": {
       "version_major": 2,
       "version_minor": 0,
       "model_id": "721d8942bc3d4dfabcb1c7651c31fb1d"
      }
     },
     "metadata": {},
     "output_type": "display_data"
    },
    {
     "name": "stdout",
     "output_type": "stream",
     "text": [
      "Epoch [5/10], Loss: 0.0342\n"
     ]
    },
    {
     "data": {
      "text/plain": [
       "Epoch 6/10:   0%|          | 0/2197 [00:00<?, ?it/s]"
      ],
      "application/vnd.jupyter.widget-view+json": {
       "version_major": 2,
       "version_minor": 0,
       "model_id": "3079c7ce9b87419193cf18c0dffa9e7d"
      }
     },
     "metadata": {},
     "output_type": "display_data"
    },
    {
     "name": "stdout",
     "output_type": "stream",
     "text": [
      "Epoch [6/10], Loss: 0.3103\n"
     ]
    },
    {
     "data": {
      "text/plain": [
       "Epoch 7/10:   0%|          | 0/2197 [00:00<?, ?it/s]"
      ],
      "application/vnd.jupyter.widget-view+json": {
       "version_major": 2,
       "version_minor": 0,
       "model_id": "8d74268a2ee545b6a9226484f3c4ae33"
      }
     },
     "metadata": {},
     "output_type": "display_data"
    },
    {
     "name": "stdout",
     "output_type": "stream",
     "text": [
      "Epoch [7/10], Loss: 0.3171\n"
     ]
    },
    {
     "data": {
      "text/plain": [
       "Epoch 8/10:   0%|          | 0/2197 [00:00<?, ?it/s]"
      ],
      "application/vnd.jupyter.widget-view+json": {
       "version_major": 2,
       "version_minor": 0,
       "model_id": "cf35c7e434fa45e4a76f1f77abce885d"
      }
     },
     "metadata": {},
     "output_type": "display_data"
    },
    {
     "name": "stdout",
     "output_type": "stream",
     "text": [
      "Epoch [8/10], Loss: 0.2530\n"
     ]
    },
    {
     "data": {
      "text/plain": [
       "Epoch 9/10:   0%|          | 0/2197 [00:00<?, ?it/s]"
      ],
      "application/vnd.jupyter.widget-view+json": {
       "version_major": 2,
       "version_minor": 0,
       "model_id": "3a2b3f6c3e3f477bb73bbe828c1a8e9f"
      }
     },
     "metadata": {},
     "output_type": "display_data"
    },
    {
     "name": "stdout",
     "output_type": "stream",
     "text": [
      "Epoch [9/10], Loss: 0.0457\n"
     ]
    },
    {
     "data": {
      "text/plain": [
       "Epoch 10/10:   0%|          | 0/2197 [00:00<?, ?it/s]"
      ],
      "application/vnd.jupyter.widget-view+json": {
       "version_major": 2,
       "version_minor": 0,
       "model_id": "bcf47a136caf4beabda6e55aa5719b2f"
      }
     },
     "metadata": {},
     "output_type": "display_data"
    },
    {
     "name": "stdout",
     "output_type": "stream",
     "text": [
      "Epoch [10/10], Loss: 0.1008\n"
     ]
    }
   ],
   "execution_count": 30
  },
  {
   "metadata": {
    "ExecuteTime": {
     "end_time": "2025-07-28T17:49:10.669997Z",
     "start_time": "2025-07-28T17:49:10.657762Z"
    }
   },
   "cell_type": "code",
   "source": [
    "import torch\n",
    "\n",
    "# Set the device to a GPU if available, otherwise use the CPU\n",
    "device = torch.device('cuda' if torch.cuda.is_available() else 'cpu')\n",
    "print(f'Using device: {device}')"
   ],
   "id": "3354211217d39fe0",
   "outputs": [
    {
     "name": "stdout",
     "output_type": "stream",
     "text": [
      "Using device: cuda\n"
     ]
    }
   ],
   "execution_count": 24
  },
  {
   "metadata": {
    "ExecuteTime": {
     "end_time": "2025-07-28T17:54:36.901786Z",
     "start_time": "2025-07-28T17:54:36.760465Z"
    }
   },
   "cell_type": "code",
   "source": "from tqdm.auto import tqdm",
   "id": "4a954add70710353",
   "outputs": [],
   "execution_count": 29
  },
  {
   "metadata": {
    "ExecuteTime": {
     "end_time": "2025-07-28T19:30:53.051933Z",
     "start_time": "2025-07-28T19:30:53.036293Z"
    }
   },
   "cell_type": "code",
   "source": "",
   "id": "91f5195c2e67e696",
   "outputs": [],
   "execution_count": null
  },
  {
   "metadata": {
    "ExecuteTime": {
     "end_time": "2025-07-28T19:32:15.876160Z",
     "start_time": "2025-07-28T19:32:15.862249Z"
    }
   },
   "cell_type": "code",
   "source": "",
   "id": "fe8a99bcae96065c",
   "outputs": [],
   "execution_count": 37
  },
  {
   "metadata": {
    "ExecuteTime": {
     "end_time": "2025-07-28T19:36:48.388452Z",
     "start_time": "2025-07-28T19:36:48.196885Z"
    }
   },
   "cell_type": "code",
   "source": [
    "test_dataset = datasets.ImageFolder(\n",
    "    root=test_path,\n",
    "    transform=data_transform\n",
    ")"
   ],
   "id": "191330f590d25cf6",
   "outputs": [],
   "execution_count": 42
  },
  {
   "metadata": {
    "ExecuteTime": {
     "end_time": "2025-07-28T19:36:48.901967Z",
     "start_time": "2025-07-28T19:36:48.886024Z"
    }
   },
   "cell_type": "code",
   "source": "test_path=r\"C:\\Users\\swaya\\Desktop\\Timepass\\python\\NExt_one_week\\New Plant Diseases Dataset(Augmented)\\New Plant Diseases Dataset(Augmented)\\valid\"",
   "id": "21c6e06fb2ca24ab",
   "outputs": [],
   "execution_count": 43
  },
  {
   "metadata": {
    "ExecuteTime": {
     "end_time": "2025-07-28T19:37:00.151037Z",
     "start_time": "2025-07-28T19:37:00.137497Z"
    }
   },
   "cell_type": "code",
   "source": [
    "train_loader = DataLoader(\n",
    "    dataset=test_dataset,\n",
    "    batch_size=batch_size,\n",
    "    shuffle=True\n",
    ")"
   ],
   "id": "5320675723b49738",
   "outputs": [],
   "execution_count": 44
  },
  {
   "metadata": {
    "ExecuteTime": {
     "end_time": "2025-07-28T19:45:53.296274Z",
     "start_time": "2025-07-28T19:45:53.057304Z"
    }
   },
   "cell_type": "code",
   "source": [
    "from torch.utils.data import DataLoader\n",
    "from torchvision import datasets, transforms\n",
    "from tqdm import tqdm # For a progress bar\n",
    "\n",
    "# --- Define Transformations for the Test Set ---\n",
    "# Note: Use the same normalization as your training data\n",
    "test_transforms = transforms.Compose([\n",
    "    transforms.Resize(256),\n",
    "    transforms.CenterCrop(224),\n",
    "    transforms.ToTensor(),\n",
    "    transforms.Normalize(mean=[0.485, 0.456, 0.406], std=[0.229, 0.224, 0.225])\n",
    "])\n",
    "\n",
    "# --- Create the Dataset and DataLoader ---\n",
    "test_path = r\"C:\\Users\\swaya\\Desktop\\Timepass\\python\\NExt_one_week\\New Plant Diseases Dataset(Augmented)\\New Plant Diseases Dataset(Augmented)\\valid\"\n",
    "test_dataset = datasets.ImageFolder(root=test_path, transform=test_transforms)\n",
    "test_loader = DataLoader(dataset=test_dataset, batch_size=32, shuffle=False)"
   ],
   "id": "37ebb9d05da592d2",
   "outputs": [],
   "execution_count": 46
  },
  {
   "metadata": {
    "ExecuteTime": {
     "end_time": "2025-07-28T19:49:14.512389Z",
     "start_time": "2025-07-28T19:45:58.266982Z"
    }
   },
   "cell_type": "code",
   "source": [
    "# Assuming 'model' and 'device' are already defined from your training script\n",
    "\n",
    "# Set model to evaluation mode\n",
    "model.eval()\n",
    "\n",
    "n_correct = 0\n",
    "n_samples = 0\n",
    "\n",
    "# No need to track gradients for testing\n",
    "with torch.no_grad():\n",
    "    progress_bar = tqdm(test_loader, desc=\"Testing\")\n",
    "    for images, labels in progress_bar:\n",
    "        images = images.to(device)\n",
    "        labels = labels.to(device)\n",
    "\n",
    "        # Forward pass\n",
    "        outputs = model(images)\n",
    "\n",
    "        # Get predictions: the class with the highest score\n",
    "        _, predicted = torch.max(outputs.data, 1)\n",
    "\n",
    "        # Update counts\n",
    "        n_samples += labels.size(0)\n",
    "        n_correct += (predicted == labels).sum().item()\n",
    "\n",
    "# Calculate and print the final accuracy\n",
    "accuracy = 100.0 * n_correct / n_samples\n",
    "print(f'\\nAccuracy of the model on the {n_samples} test images: {accuracy:.2f} %')"
   ],
   "id": "5a78afbaa8364414",
   "outputs": [
    {
     "name": "stderr",
     "output_type": "stream",
     "text": [
      "Testing: 100%|██████████| 550/550 [03:16<00:00,  2.80it/s]"
     ]
    },
    {
     "name": "stdout",
     "output_type": "stream",
     "text": [
      "\n",
      "Accuracy of the model on the 17572 test images: 91.05 %\n"
     ]
    },
    {
     "name": "stderr",
     "output_type": "stream",
     "text": [
      "\n"
     ]
    }
   ],
   "execution_count": 47
  },
  {
   "metadata": {},
   "cell_type": "code",
   "outputs": [],
   "execution_count": null,
   "source": "",
   "id": "1157b5e74aad4cfb"
  }
 ],
 "metadata": {
  "kernelspec": {
   "display_name": "Python 3",
   "language": "python",
   "name": "python3"
  },
  "language_info": {
   "codemirror_mode": {
    "name": "ipython",
    "version": 2
   },
   "file_extension": ".py",
   "mimetype": "text/x-python",
   "name": "python",
   "nbconvert_exporter": "python",
   "pygments_lexer": "ipython2",
   "version": "3.10.11"
  }
 },
 "nbformat": 4,
 "nbformat_minor": 5
}
